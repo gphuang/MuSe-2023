{
 "cells": [
  {
   "cell_type": "code",
   "execution_count": null,
   "metadata": {},
   "outputs": [],
   "source": [
    "import torch\n",
    "\n",
    "import torch.nn as nn"
   ]
  },
  {
   "cell_type": "code",
   "execution_count": 1,
   "metadata": {},
   "outputs": [],
   "source": [
    "# artificial data\n",
    "import sklearn\n",
    "from sklearn import datasets\n",
    "import pandas as pd\n",
    "\n",
    "# from sklearn we are going to select one dataset\n",
    "data=datasets.make_regression()\n",
    "df = pd.DataFrame(data[0], columns=[f\"feature_{i+1}\" for i in range(data[0].shape[1])])\n",
    "df[\"target\"] = data[1]"
   ]
  },
  {
   "cell_type": "code",
   "execution_count": 4,
   "metadata": {},
   "outputs": [
    {
     "data": {
      "text/plain": [
       "(100, 101)"
      ]
     },
     "execution_count": 4,
     "metadata": {},
     "output_type": "execute_result"
    }
   ],
   "source": [
    "df.shape"
   ]
  },
  {
   "cell_type": "code",
   "execution_count": 39,
   "metadata": {},
   "outputs": [
    {
     "name": "stdout",
     "output_type": "stream",
     "text": [
      "torch.Size([100, 1, 20])\n",
      "torch.Size([100, 128, 20])\n"
     ]
    }
   ],
   "source": [
    "# Layers\n",
    "c0 = nn.Conv1d(1, 128, 1)\n",
    "maxpool = nn.MaxPool1d(2)\n",
    "avgpool = nn.AvgPool1d(2)\n",
    "\n",
    "# Input\n",
    "x = torch.rand(100, 20, 1)\n",
    "x = x.transpose(1, 2)\n",
    "print(x.shape)\n",
    "\n",
    "# Conv\n",
    "x = c0(x)\n",
    "print(x.shape)"
   ]
  },
  {
   "cell_type": "code",
   "execution_count": 33,
   "metadata": {},
   "outputs": [
    {
     "data": {
      "text/plain": [
       "torch.Size([100, 128, 10])"
      ]
     },
     "execution_count": 33,
     "metadata": {},
     "output_type": "execute_result"
    }
   ],
   "source": [
    "x = avgpool(x)\n",
    "x.shape"
   ]
  },
  {
   "cell_type": "code",
   "execution_count": 35,
   "metadata": {},
   "outputs": [
    {
     "data": {
      "text/plain": [
       "torch.Size([100, 128, 10])"
      ]
     },
     "execution_count": 35,
     "metadata": {},
     "output_type": "execute_result"
    }
   ],
   "source": [
    "x = maxpool(x)\n",
    "x.shape"
   ]
  },
  {
   "cell_type": "markdown",
   "metadata": {},
   "source": [
    "#### "
   ]
  },
  {
   "cell_type": "code",
   "execution_count": 38,
   "metadata": {},
   "outputs": [
    {
     "data": {
      "text/plain": [
       "torch.Size([100, 128, 30])"
      ]
     },
     "execution_count": 38,
     "metadata": {},
     "output_type": "execute_result"
    }
   ],
   "source": [
    "y = torch.cat((x, x, x), 2)\n",
    "y.shape\n"
   ]
  },
  {
   "cell_type": "code",
   "execution_count": 40,
   "metadata": {},
   "outputs": [
    {
     "data": {
      "text/plain": [
       "(torch.Size([100, 128]), torch.Size([100, 128]), torch.Size([100, 128]))"
      ]
     },
     "execution_count": 40,
     "metadata": {},
     "output_type": "execute_result"
    }
   ],
   "source": [
    "(x1, _) = torch.max(x, dim=2)\n",
    "x2 = torch.mean(x, dim=2)\n",
    "x = x1 + x2\n",
    "x1.shape, x2.shape, x.shape"
   ]
  },
  {
   "cell_type": "code",
   "execution_count": 42,
   "metadata": {},
   "outputs": [
    {
     "data": {
      "text/plain": [
       "tensor([[[0.0450, 0.1499, 0.8271, 0.9488],\n",
       "         [0.6914, 0.2709, 0.5344, 0.7879],\n",
       "         [0.0418, 0.5794, 0.7829, 0.4619]],\n",
       "\n",
       "        [[0.8227, 0.8590, 0.5337, 0.1601],\n",
       "         [0.4036, 0.8694, 0.6340, 0.4299],\n",
       "         [0.3455, 0.0540, 0.2463, 0.4883]]])"
      ]
     },
     "execution_count": 42,
     "metadata": {},
     "output_type": "execute_result"
    }
   ],
   "source": [
    "x = torch.rand(2, 3, 4)\n",
    "x"
   ]
  },
  {
   "cell_type": "code",
   "execution_count": 43,
   "metadata": {},
   "outputs": [
    {
     "data": {
      "text/plain": [
       "tensor([[0.4927, 0.5711, 0.4665],\n",
       "        [0.5939, 0.5842, 0.2835]])"
      ]
     },
     "execution_count": 43,
     "metadata": {},
     "output_type": "execute_result"
    }
   ],
   "source": [
    "torch.mean(x, dim=2)"
   ]
  },
  {
   "cell_type": "code",
   "execution_count": 44,
   "metadata": {},
   "outputs": [
    {
     "data": {
      "text/plain": [
       "tensor([[[0.1499, 0.9488],\n",
       "         [0.6914, 0.7879],\n",
       "         [0.5794, 0.7829]],\n",
       "\n",
       "        [[0.8590, 0.5337],\n",
       "         [0.8694, 0.6340],\n",
       "         [0.3455, 0.4883]]])"
      ]
     },
     "execution_count": 44,
     "metadata": {},
     "output_type": "execute_result"
    }
   ],
   "source": [
    "maxpool(x)"
   ]
  },
  {
   "cell_type": "code",
   "execution_count": 45,
   "metadata": {},
   "outputs": [
    {
     "data": {
      "text/plain": [
       "tensor([[[0.0975, 0.8880],\n",
       "         [0.4811, 0.6611],\n",
       "         [0.3106, 0.6224]],\n",
       "\n",
       "        [[0.8409, 0.3469],\n",
       "         [0.6365, 0.5319],\n",
       "         [0.1998, 0.3673]]])"
      ]
     },
     "execution_count": 45,
     "metadata": {},
     "output_type": "execute_result"
    }
   ],
   "source": [
    "avgpool(x)"
   ]
  },
  {
   "cell_type": "code",
   "execution_count": null,
   "metadata": {},
   "outputs": [],
   "source": []
  }
 ],
 "metadata": {
  "kernelspec": {
   "display_name": "pytorch-env",
   "language": "python",
   "name": "python3"
  },
  "language_info": {
   "codemirror_mode": {
    "name": "ipython",
    "version": 3
   },
   "file_extension": ".py",
   "mimetype": "text/x-python",
   "name": "python",
   "nbconvert_exporter": "python",
   "pygments_lexer": "ipython3",
   "version": "3.12.2"
  }
 },
 "nbformat": 4,
 "nbformat_minor": 4
}
