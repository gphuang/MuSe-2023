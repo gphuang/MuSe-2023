{
 "cells": [
  {
   "cell_type": "code",
   "execution_count": null,
   "metadata": {},
   "outputs": [],
   "source": [
    "import os, sys\n",
    "import librosa\n",
    "import pandas as pd\n"
   ]
  },
  {
   "cell_type": "code",
   "execution_count": null,
   "metadata": {},
   "outputs": [],
   "source": [
    "data_name = '/scratch/elec/puhe/c/muse_2023/c3_muse_personalisation/raw_data/audio/1.wav'\n",
    "data, _ = librosa.load(data_name, dtype=np.float32)"
   ]
  },
  {
   "cell_type": "code",
   "execution_count": null,
   "metadata": {},
   "outputs": [],
   "source": [
    "fname = '/teamwork/t40511/muse_2023/c3_muse_personalisation/feature_segments/w2v-msp/10.csv'\n",
    "df = pd.read_csv(fname)\n",
    "df.shape"
   ]
  },
  {
   "cell_type": "code",
   "execution_count": null,
   "metadata": {},
   "outputs": [],
   "source": [
    "affect='physio-arousal' # 'valence'\n",
    "fname = f'/teamwork/t40511/muse_2023/c3_muse_personalisation/label_segments/{affect}/10.csv'\n",
    "df = pd.read_csv(fname)\n",
    "df.shape\n",
    "df.head(3)\n",
    "df['value'].plot(title=affect)"
   ]
  },
  {
   "cell_type": "code",
   "execution_count": null,
   "metadata": {},
   "outputs": [],
   "source": [
    "bio='resp'\n",
    "fname = f'/teamwork/t40511/muse_2023/c3_muse_personalisation/feature_segments/{bio}_raw/10.csv'\n",
    "df = pd.read_csv(fname)\n",
    "df[bio][:2000,].plot(title=bio)"
   ]
  },
  {
   "cell_type": "code",
   "execution_count": null,
   "metadata": {},
   "outputs": [],
   "source": []
  }
 ],
 "metadata": {
  "kernelspec": {
   "display_name": "mmer",
   "language": "python",
   "name": "python3"
  },
  "language_info": {
   "codemirror_mode": {
    "name": "ipython",
    "version": 3
   },
   "file_extension": ".py",
   "mimetype": "text/x-python",
   "name": "python",
   "nbconvert_exporter": "python",
   "pygments_lexer": "ipython3",
   "version": "3.12.2"
  }
 },
 "nbformat": 4,
 "nbformat_minor": 2
}
